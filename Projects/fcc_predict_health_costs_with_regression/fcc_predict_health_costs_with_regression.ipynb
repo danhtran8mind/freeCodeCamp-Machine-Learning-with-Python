{
  "cells": [
    {
      "cell_type": "code",
      "execution_count": null,
      "metadata": {
        "id": "1rRo8oNqZ-Rj"
      },
      "outputs": [],
      "source": [
        "# Import libraries. You may or may not use all of these.\n",
        "!pip install -q git+https://github.com/tensorflow/docs\n",
        "import matplotlib.pyplot as plt\n",
        "import numpy as np\n",
        "import pandas as pd\n",
        "\n",
        "try:\n",
        "  # %tensorflow_version only exists in Colab.\n",
        "  %tensorflow_version 2.x\n",
        "except Exception:\n",
        "  pass\n",
        "import tensorflow as tf\n",
        "\n",
        "from tensorflow import keras\n",
        "from tensorflow.keras import layers\n",
        "\n",
        "import tensorflow_docs as tfdocs\n",
        "import tensorflow_docs.plots\n",
        "import tensorflow_docs.modeling"
      ]
    },
    {
      "cell_type": "code",
      "execution_count": null,
      "metadata": {
        "id": "CiX2FI4gZtTt"
      },
      "outputs": [],
      "source": [
        "# Import data\n",
        "!wget https://cdn.freecodecamp.org/project-data/health-costs/insurance.csv\n",
        "dataset = pd.read_csv('insurance.csv')\n",
        "dataset.tail()"
      ]
    },
    {
      "cell_type": "code",
      "execution_count": null,
      "metadata": {
        "id": "LcopvQh3X-kX"
      },
      "outputs": [],
      "source": [
        "from sklearn.model_selection import train_test_split\n",
        "from sklearn.preprocessing import MinMaxScaler\n",
        "\n",
        "# Create X, y and split dataset\n",
        "\n",
        "y = dataset['expenses'].tolist()\n",
        "dataset.drop(['expenses'], axis=1, inplace=True)\n",
        "\n",
        "# Category\n",
        "dataset['sex'] = dataset['sex'].astype('category')\n",
        "dataset['sex'] = dataset['sex'].cat.codes\n",
        "\n",
        "dataset['smoker'] = dataset['smoker'].astype('category')\n",
        "dataset['smoker'] = dataset['smoker'].cat.codes\n",
        "\n",
        "dataset['region'] = dataset['region'].astype('category')\n",
        "dataset['region'] = dataset['region'].cat.codes\n",
        "\n",
        "X = np.array(dataset)\n",
        "y = np.array(y).reshape(-1,1)\n",
        "\n",
        "train_dataset, test_dataset, train_labels, test_labels = train_test_split(\n",
        "    X, y, test_size=0.2, random_state=42)\n",
        "scaler = MinMaxScaler()\n",
        "scaler.fit(train_dataset)\n",
        "train_dataset, test_dataset = scaler.transform(train_dataset), scaler.transform(test_dataset)"
      ]
    },
    {
      "cell_type": "code",
      "source": [
        "# Create model\n",
        "import tensorflow as tf\n",
        "from keras.callbacks import Callback\n",
        "\n",
        "# Define Classfor print result for each 100 epochs\n",
        "log_p = 'log.txt'\n",
        "class print_training_on_text_every_100_epochs_Callback(Callback):\n",
        "    def __init__(self, logpath):\n",
        "        self.logpath = logpath\n",
        "\n",
        "    def on_epoch_end(self, epoch, logs=None):\n",
        "        with open(self.logpath, \"a\") as writefile:  # put log_path here\n",
        "            #with open(writefile):\n",
        "              if (int(epoch) % 100) == 0:\n",
        "                  print(\n",
        "                      f\"Epoch: {epoch:>3}\"\n",
        "                      + f\" | Loss: {logs['loss']:.4e}\"\n",
        "                      + f\" | MAE: {logs['mae']:.4e}\"\n",
        "                      + f\" | Validation loss: {logs['val_loss']:.4e}\"\n",
        "                      + f\" | Validation MAE: {logs['val_mae']:.4e}\"\n",
        "                  )\n",
        "                  writefile.write(\"\\n\")\n",
        "\n",
        "inputs = keras.Input(shape=(train_dataset.shape[1],), name=\"digits\")\n",
        "x = layers.Dense(64, activation=\"relu\", name=\"dense_1\")(inputs)\n",
        "x = layers.Dense(64, activation=\"relu\", name=\"dense_2\")(x)\n",
        "x = layers.Dense(32, activation=\"relu\", name=\"dense_23\")(x)\n",
        "outputs = layers.Dense(1, name=\"predictions\")(x)\n",
        "\n",
        "model = keras.Model(inputs=inputs, outputs=outputs)\n",
        "\n",
        "lr_schedule = tf.keras.optimizers.schedules.ExponentialDecay(\n",
        "    initial_learning_rate=5e-3,\n",
        "    decay_steps=10000,\n",
        "    decay_rate=0.9)\n",
        "\n",
        "my_callbacks = [\n",
        "    print_training_on_text_every_100_epochs_Callback(logpath=log_p),\n",
        "    tf.keras.callbacks.EarlyStopping(patience=2000),\n",
        "    tf.keras.callbacks.ModelCheckpoint(filepath='best-weight.keras', save_best_only=True),\n",
        "    tf.keras.callbacks.TensorBoard(log_dir='logs'),\n",
        "]\n",
        "\n",
        "model.compile(optimizer=tf.keras.optimizers.Adam(learning_rate=lr_schedule),\n",
        "              loss='mse', metrics=['mae', 'mse'])\n",
        "\n",
        "model.fit(train_dataset, train_labels,\n",
        "          batch_size=train_dataset.shape[0],\n",
        "          epochs=10000, verbose=0,\n",
        "          validation_data=(test_dataset, test_labels),\n",
        "          callbacks=my_callbacks,)"
      ],
      "metadata": {
        "id": "uJuCOgbiZiVM"
      },
      "execution_count": null,
      "outputs": []
    },
    {
      "cell_type": "code",
      "execution_count": null,
      "metadata": {
        "id": "Xe7RXH3N3CWU"
      },
      "outputs": [],
      "source": [
        "# RUN THIS CELL TO TEST YOUR MODEL. DO NOT MODIFY CONTENTS.\n",
        "# Test model by checking how well the model generalizes using the test set.\n",
        "loss, mae, mse = model.evaluate(test_dataset, test_labels, verbose=2)\n",
        "\n",
        "print(\"Testing set Mean Abs Error: {:5.2f} expenses\".format(mae))\n",
        "\n",
        "if mae < 3500:\n",
        "  print(\"You passed the challenge. Great job!\")\n",
        "else:\n",
        "  print(\"The Mean Abs Error must be less than 3500. Keep trying.\")\n",
        "\n",
        "# Plot predictions.\n",
        "test_predictions = model.predict(test_dataset).flatten()\n",
        "\n",
        "a = plt.axes(aspect='equal')\n",
        "plt.scatter(test_labels, test_predictions)\n",
        "plt.xlabel('True values (expenses)')\n",
        "plt.ylabel('Predictions (expenses)')\n",
        "lims = [0, 50000]\n",
        "plt.xlim(lims)\n",
        "plt.ylim(lims)\n",
        "_ = plt.plot(lims,lims)\n"
      ]
    }
  ],
  "metadata": {
    "colab": {
      "private_outputs": true,
      "provenance": []
    },
    "kernelspec": {
      "display_name": "Python 3",
      "name": "python3"
    }
  },
  "nbformat": 4,
  "nbformat_minor": 0
}